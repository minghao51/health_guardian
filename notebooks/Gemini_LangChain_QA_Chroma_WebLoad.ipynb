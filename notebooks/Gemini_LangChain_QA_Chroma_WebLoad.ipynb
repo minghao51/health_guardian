{
  "cells": [
    {
      "cell_type": "markdown",
      "metadata": {
        "id": "Tce3stUlHN0L"
      },
      "source": [
        "##### Copyright 2024 Google LLC."
      ]
    },
    {
      "cell_type": "code",
      "execution_count": 107,
      "metadata": {
        "cellView": "form",
        "id": "tuOe1ymfHZPu"
      },
      "outputs": [],
      "source": [
        "#@title Licensed under the Apache License, Version 2.0 (the \"License\");\n",
        "# you may not use this file except in compliance with the License.\n",
        "# You may obtain a copy of the License at\n",
        "#\n",
        "# https://www.apache.org/licenses/LICENSE-2.0\n",
        "#\n",
        "# Unless required by applicable law or agreed to in writing, software\n",
        "# distributed under the License is distributed on an \"AS IS\" BASIS,\n",
        "# WITHOUT WARRANTIES OR CONDITIONS OF ANY KIND, either express or implied.\n",
        "# See the License for the specific language governing permissions and\n",
        "# limitations under the License."
      ]
    },
    {
      "cell_type": "markdown",
      "metadata": {
        "id": "0c5ea3f4a75c"
      },
      "source": [
        "# Question Answering using Gemini, LangChain, and Chroma"
      ]
    },
    {
      "cell_type": "markdown",
      "metadata": {
        "id": "479790a71f3c"
      },
      "source": [
        "## Overview\n",
        "\n",
        "[Gemini](https://ai.google.dev/models/gemini) is a family of generative AI models that lets developers generate content and solve problems. These models are designed and trained to handle both text and images as input.\n",
        "\n",
        "[LangChain](https://www.langchain.com/) is a data framework designed to make integration of Large Language Models (LLM) like Gemini easier for applications.\n",
        "\n",
        "[Chroma](https://docs.trychroma.com/) is an open-source embedding database focused on simplicity and developer productivity. Chroma allows users to store embeddings and their metadata, embed documents and queries, and search the embeddings quickly.\n",
        "\n",
        "In this notebook, you'll learn how to create an application that answers questions using data from a website with the help of Gemini, LangChain, and Chroma."
      ]
    },
    {
      "cell_type": "markdown",
      "metadata": {
        "id": "_qRjVe1tZhsx"
      },
      "source": [
        "## Setup\n",
        "\n",
        " - Modified to factor all the setup on the requirements.txt\n",
        " - Also utilize build an app and scripts to allow easier showcase and code management.\n"
      ]
    },
    {
      "cell_type": "markdown",
      "metadata": {
        "id": "9d5WNLQn3Rnj"
      },
      "source": [
        "### Web Agent Loading from Website"
      ]
    },
    {
      "cell_type": "code",
      "execution_count": 108,
      "metadata": {},
      "outputs": [],
      "source": [
        "import os\n",
        "import pprint\n",
        "import re\n",
        "import markdown"
      ]
    },
    {
      "cell_type": "code",
      "execution_count": 109,
      "metadata": {},
      "outputs": [],
      "source": [
        "# api key setup\n",
        "from dotenv import load_dotenv, find_dotenv\n",
        "load_dotenv(find_dotenv())\n",
        "youtube_api_key = os.environ.get(\"youtube_api_key\")\n",
        "open_ai_key = os.environ.get(\"open_ai_key\")\n",
        "google_api_key = os.environ.get(\"google_ai_studio_key\")"
      ]
    },
    {
      "cell_type": "code",
      "execution_count": 110,
      "metadata": {},
      "outputs": [],
      "source": [
        "import os\n",
        "\n",
        "def list_files(path, verbose=False)->list:\n",
        "    \"\"\"Lists files at the specified path, including those in subdirectories.\"\"\"\n",
        "\n",
        "    _list = []\n",
        "    for root, directories, files in os.walk(path):\n",
        "        for file in files:\n",
        "            file_path = os.path.join(root, file)\n",
        "            _list.append(file_path)\n",
        "            if  verbose:\n",
        "                print(file_path)\n",
        "    return _list\n",
        "# Example usage:\n",
        "# path_to_list = \"/your/designated/path\"  # Replace with the actual path\n"
      ]
    },
    {
      "cell_type": "code",
      "execution_count": 111,
      "metadata": {},
      "outputs": [],
      "source": [
        "from langchain_community.document_loaders import PyPDFLoader\n",
        "\n",
        "def pdf_loader_doc(pdf_path_list)->dict:\n",
        "    pdf_doc_dict={}\n",
        "    for i in pdf_path_list:\n",
        "\n",
        "        # pdf loader\n",
        "        loader = PyPDFLoader(i)\n",
        "        pages = loader.load_and_split()\n",
        "        \n",
        "        # filename\n",
        "        path_components = i.split(\"/\")\n",
        "        filename = path_components[-1]\n",
        "\n",
        "        pdf_doc_dict[filename] = pages\n",
        "    return pdf_doc_dict"
      ]
    },
    {
      "cell_type": "code",
      "execution_count": 112,
      "metadata": {},
      "outputs": [],
      "source": [
        "import re\n",
        "\n",
        "def extract_markdown_links(path, verbose=False)->dict:\n",
        "    # Markdown (using the markdown library)\n",
        "    with open(path, \"r\") as file:\n",
        "        text = file.read()\n",
        "\n",
        "    link_pattern = r\"\\[(.*?)\\]\\((.*?)\\)\"  # Matches link text and URL within parentheses\n",
        "    links = re.findall(link_pattern, text)\n",
        "\n",
        "    # text\n",
        "    links_dict = {}\n",
        "    for link_name, url in links:\n",
        "        links_dict[link_name] = url\n",
        "        if verbose:\n",
        "            print(f\"Link Name: {link_name}\")\n",
        "            print(f\"URL: {url}\")\n",
        "    return links_dict"
      ]
    },
    {
      "cell_type": "code",
      "execution_count": 113,
      "metadata": {},
      "outputs": [],
      "source": [
        "from langchain_community.document_loaders import WebBaseLoader\n",
        "\n",
        "def web_loader_doc(web_path_list)->dict:\n",
        "    web_doc_dict={}\n",
        "    key_list = [key for key,val in web_path_list.items()]\n",
        "    val_list = [val for key,val in web_path_list.items()]\n",
        "    loader = WebBaseLoader(val_list)\n",
        "    docs = loader.load()\n",
        "    # Extract the text from the website data document\n",
        "    # text_content = docs[0].page_content\n",
        "    for i in range(len(docs)):\n",
        "        web_doc_dict[key_list[i]] = docs[i].page_content\n",
        "    return web_doc_dict"
      ]
    },
    {
      "cell_type": "code",
      "execution_count": 114,
      "metadata": {},
      "outputs": [],
      "source": [
        "import re\n",
        "def extract_youtube_ids(url, verbose=False):\n",
        "\n",
        "    # Extract the video ID with a regular expression\n",
        "    match = re.search(r\"v=([^&]+)\", url)\n",
        "\n",
        "    if match:\n",
        "        video_id = match.group(1)\n",
        "        if verbose:\n",
        "            print(f\"Video ID: {video_id}\")\n",
        "    else:\n",
        "        if verbose:\n",
        "            print(\"Error: Could not extract video ID from URL.\")\n",
        "    return video_id"
      ]
    },
    {
      "cell_type": "code",
      "execution_count": 115,
      "metadata": {},
      "outputs": [],
      "source": [
        "from langchain.text_splitter import RecursiveCharacterTextSplitter\n",
        "from langchain.text_splitter import HTMLHeaderTextSplitter\n",
        "def web_html_loader_doc(web_path_list)-> dict:\n",
        "    key_list = [key for key,val in web_path_list.items()]\n",
        "    val_list = [val for key,val in web_path_list.items()]\n",
        "    web_doc_dict={}\n",
        "    for idx, url in enumerate(val_list):\n",
        "        # url = \"https://plato.stanford.edu/entries/goedel/\"\n",
        "\n",
        "        headers_to_split_on = [\n",
        "            (\"h1\", \"Header 1\"),\n",
        "            (\"h2\", \"Header 2\"),\n",
        "            # (\"h3\", \"Header 3\"),\n",
        "            # (\"h4\", \"Header 4\"),\n",
        "        ]\n",
        "\n",
        "        html_splitter = HTMLHeaderTextSplitter(headers_to_split_on=headers_to_split_on)\n",
        "\n",
        "        # for local file use html_splitter.split_text_from_file(<path_to_file>)\n",
        "        html_header_splits = html_splitter.split_text_from_url(url)\n",
        "\n",
        "        chunk_size = 1000\n",
        "        chunk_overlap = 50\n",
        "        text_splitter = RecursiveCharacterTextSplitter(\n",
        "            chunk_size=chunk_size, chunk_overlap=chunk_overlap\n",
        "        )\n",
        "\n",
        "        # Split\n",
        "        splits = text_splitter.split_documents(html_header_splits)\n",
        "        web_doc_dict[key_list[idx]] = splits\n",
        "    return web_doc_dict"
      ]
    },
    {
      "cell_type": "code",
      "execution_count": 116,
      "metadata": {},
      "outputs": [],
      "source": [
        "import json\n",
        "import youtube_transcript_api\n",
        "from googleapiclient.discovery import build\n",
        "\n",
        "def youtube_get_transcript(video_id:list, api_key:str)->list:\n",
        "    \"\"\"Retrieves the transcript of a YouTube video.\"\"\"\n",
        "    youtube = build('youtube', 'v3', developerKey=youtube_api_key)\n",
        "    \n",
        "\n",
        "    transcript_list = []\n",
        "    for i in video_id:\n",
        "        transcript = youtube_transcript_api.YouTubeTranscriptApi.get_transcript(i)\n",
        "        transcript_text = []\n",
        "        for segment in transcript:\n",
        "            transcript_text.append(segment['text'])\n",
        "\n",
        "        joined_text = \" \".join(transcript_text)\n",
        "    transcript_list.append(joined_text)\n",
        "        \n",
        "    return transcript_list"
      ]
    },
    {
      "cell_type": "code",
      "execution_count": 117,
      "metadata": {},
      "outputs": [],
      "source": [
        "def youtube_get_title(video_id:list, api_key:str)->list:\n",
        "    \"\"\"Retrieves the title of a YouTube video.\"\"\"\n",
        "    youtube = build('youtube', 'v3', developerKey=youtube_api_key)\n",
        "    # Get video information\n",
        "    video_title_list = []\n",
        "    for id in video_id:\n",
        "        request = youtube.videos().list(\n",
        "            part=\"snippet\",\n",
        "            id=id\n",
        "        )\n",
        "        response = request.execute()\n",
        "\n",
        "        # Extract video title\n",
        "        video_title = response['items'][0]['snippet']['title']\n",
        "        video_title_list.append(video_title)\n",
        "    return video_title_list\n",
        "\n",
        "from langchain.text_splitter import RecursiveCharacterTextSplitter\n",
        "from langchain.docstore.document import Document\n",
        "\n",
        "def youtube_transcript_sciprt(title_list, youtube_transcripts_list):\n",
        "    doc_dict = {}\n",
        "    for title, transcripts in zip(title_list, youtube_transcripts_list):\n",
        "        text_splitter = RecursiveCharacterTextSplitter(\n",
        "            # Set a really small chunk size, just to show.\n",
        "            chunk_size=1000,\n",
        "            chunk_overlap=50,\n",
        "            length_function=len,\n",
        "            is_separator_regex=False,\n",
        "        )\n",
        "\n",
        "        texts = text_splitter.create_documents([transcripts])\n",
        "        doc_dict[title]=texts\n",
        "    return doc_dict\n",
        "\n",
        "# def combined_title_transcripts_list(title_list, transcripts_list):\n",
        "#     return [Document(page_content=y, metadata={\"source\": \"youtube\", \"title\":x}) for x,y in zip(title_list, transcripts_list)]"
      ]
    },
    {
      "cell_type": "markdown",
      "metadata": {},
      "source": [
        "## PDF"
      ]
    },
    {
      "cell_type": "code",
      "execution_count": 118,
      "metadata": {},
      "outputs": [],
      "source": [
        "claims_pdf_files = list_files('../data/pdf_raw/claims')\n",
        "claims_pdf_doc = pdf_loader_doc(claims_pdf_files)"
      ]
    },
    {
      "cell_type": "code",
      "execution_count": 119,
      "metadata": {},
      "outputs": [],
      "source": [
        "# add meta data\n",
        "for i in claims_pdf_doc:\n",
        "    for idx, doc in enumerate(claims_pdf_doc[i]):\n",
        "        claims_pdf_doc[i][idx].metadata = {\"Source\":\"pdf\", \"functions\":\"claims\"}\n"
      ]
    },
    {
      "cell_type": "code",
      "execution_count": 120,
      "metadata": {},
      "outputs": [],
      "source": [
        "disease_pdf_files = list_files('../data/pdf_raw/disease')\n",
        "disease_pdf_doc = pdf_loader_doc(disease_pdf_files)"
      ]
    },
    {
      "cell_type": "code",
      "execution_count": 121,
      "metadata": {},
      "outputs": [],
      "source": [
        "# add meta data\n",
        "for i in disease_pdf_doc:\n",
        "    for idx, doc in enumerate(disease_pdf_doc[i]):\n",
        "        disease_pdf_doc[i][idx].metadata = {\"Source\":\"pdf\", \"functions\":\"disease\"}"
      ]
    },
    {
      "cell_type": "markdown",
      "metadata": {},
      "source": [
        "## Web"
      ]
    },
    {
      "cell_type": "code",
      "execution_count": 122,
      "metadata": {},
      "outputs": [],
      "source": [
        "disease_web_dict = extract_markdown_links(\"../data/web/disease_links.md\")\n",
        "insurance_web_dict = extract_markdown_links(\"../data/web/insurance_links.md\")\n",
        "disease_youtube_dict = extract_markdown_links(\"../data/web/youtube_disease_links.md\")"
      ]
    },
    {
      "cell_type": "code",
      "execution_count": 123,
      "metadata": {},
      "outputs": [],
      "source": [
        "disease_youtube_dict = {key:extract_youtube_ids(val) for key,val in disease_youtube_dict.items()}"
      ]
    },
    {
      "cell_type": "code",
      "execution_count": 124,
      "metadata": {},
      "outputs": [],
      "source": [
        "disease_web_doc = web_html_loader_doc(disease_web_dict)\n",
        "insurance_web_doc = web_html_loader_doc(insurance_web_dict)"
      ]
    },
    {
      "cell_type": "code",
      "execution_count": 137,
      "metadata": {},
      "outputs": [],
      "source": [
        "# investigation"
      ]
    },
    {
      "cell_type": "code",
      "execution_count": 135,
      "metadata": {},
      "outputs": [],
      "source": [
        "insurance_web_dict = extract_markdown_links(\"../data/web/insurance_links.md\")\n",
        "insurance_web_doc = web_html_loader_doc(insurance_web_dict)"
      ]
    },
    {
      "cell_type": "code",
      "execution_count": null,
      "metadata": {},
      "outputs": [],
      "source": [
        "import requests\n",
        "\n",
        "headers = {\n",
        "    'User-Agent': 'Mozilla/5.0 (Windows NT 10.0; Win64; x64) AppleWebKit/537.36 (KHTML, like Gecko) Chrome/58.0.3029.110 Safari/537.36 Edge/16.16299'\n",
        "}\n",
        "\n",
        "session = requests.Session()\n",
        "response = session.get('https://www.example.com/', headers=headers)"
      ]
    },
    {
      "cell_type": "code",
      "execution_count": 136,
      "metadata": {},
      "outputs": [
        {
          "data": {
            "text/plain": [
              "[Document(page_content='Enable JavaScript and cookies to continue')]"
            ]
          },
          "execution_count": 136,
          "metadata": {},
          "output_type": "execute_result"
        }
      ],
      "source": [
        "insurance_web_doc['FWD CI Plus Claim FAQ']"
      ]
    },
    {
      "cell_type": "code",
      "execution_count": 20,
      "metadata": {},
      "outputs": [],
      "source": [
        "# add meta data\n",
        "for i in disease_web_doc:\n",
        "    for idx, doc in enumerate(disease_web_doc[i]):\n",
        "        disease_web_doc[i][idx].metadata = {\"Source\":\"web\", \"functions\":\"disease\"}"
      ]
    },
    {
      "cell_type": "code",
      "execution_count": 21,
      "metadata": {},
      "outputs": [],
      "source": [
        "# add meta data\n",
        "for i in insurance_web_doc:\n",
        "    for idx, doc in enumerate(insurance_web_doc[i]):\n",
        "        insurance_web_doc[i][idx].metadata = {\"Source\":\"web\", \"functions\":\"claims\"}"
      ]
    },
    {
      "cell_type": "markdown",
      "metadata": {},
      "source": [
        "## Youtube"
      ]
    },
    {
      "cell_type": "code",
      "execution_count": 22,
      "metadata": {},
      "outputs": [],
      "source": [
        "video_ids=[]\n",
        "for name, video_id in disease_youtube_dict.items():\n",
        "    video_ids.append(video_id)\n",
        "youtube_title_list = youtube_get_title(video_ids, youtube_api_key)\n",
        "youtube_transcripts_list = youtube_get_transcript(video_ids, youtube_api_key)\n",
        "disease_youtube_doc = youtube_transcript_sciprt(youtube_title_list, youtube_transcripts_list)"
      ]
    },
    {
      "cell_type": "markdown",
      "metadata": {
        "id": "aEKMUyVmckWI"
      },
      "source": [
        "## Basic steps\n",
        "LLMs are trained offline on a large corpus of public data. Hence they cannot answer questions based on custom or private data accurately without additional context.\n",
        "\n",
        "If you want to make use of LLMs to answer questions based on private data, you have to provide the relevant documents as context alongside your prompt. This approach is called Retrieval Augmented Generation (RAG).\n",
        "\n",
        "You will use this approach to create a question-answering assistant using the Gemini text model integrated through LangChain. The assistant is expected to answer questions about AI and climate change. To make this possible you will add more context to the assistant using data from a website.\n",
        "\n",
        "In this tutorial, you'll implement the two main components in an RAG-based architecture:\n",
        "\n",
        "1. Retriever\n",
        "\n",
        "    Based on the user's query, the retriever retrieves relevant snippets that add context from the document. In this tutorial, the document is the website data.\n",
        "    The relevant snippets are passed as context to the next stage - \"Generator\".\n",
        "\n",
        "2. Generator\n",
        "\n",
        "    The relevant snippets from the website data are passed to the LLM along with the user's query to generate accurate answers.\n",
        "\n",
        "You'll learn more about these stages in the upcoming sections while implementing the application."
      ]
    },
    {
      "cell_type": "markdown",
      "metadata": {
        "id": "kPhs4mDkjdgY"
      },
      "source": [
        "## Import the required libraries"
      ]
    },
    {
      "cell_type": "code",
      "execution_count": 23,
      "metadata": {
        "id": "TcvGPVdXu05F"
      },
      "outputs": [],
      "source": [
        "from langchain import PromptTemplate\n",
        "from langchain import hub\n",
        "from langchain.docstore.document import Document\n",
        "from langchain.document_loaders import WebBaseLoader\n",
        "from langchain.schema import StrOutputParser\n",
        "from langchain.schema.prompt_template import format_document\n",
        "from langchain.schema.runnable import RunnablePassthrough\n",
        "from langchain.vectorstores import Chroma"
      ]
    },
    {
      "cell_type": "markdown",
      "metadata": {
        "id": "4461Jihk_rWq"
      },
      "source": [
        "## Retriever\n",
        "\n",
        "In this stage, you will perform the following steps:\n",
        "\n",
        "1. Read and parse the website data using LangChain.\n",
        "\n",
        "2. Create embeddings of the website data.\n",
        "\n",
        "    Embeddings are numerical representations (vectors) of text. Hence, text with similar meaning will have similar embedding vectors. You'll make use of Gemini's embedding model to create the embedding vectors of the website data.\n",
        "\n",
        "3. Store the embeddings in Chroma's vector store.\n",
        "    \n",
        "    Chroma is a vector database. The Chroma vector store helps in the efficient retrieval of similar vectors. Thus, for adding context to the prompt for the LLM, relevant embeddings of the text matching the user's question can be retrieved easily using Chroma.\n",
        "\n",
        "4. Create a Retriever from the Chroma vector store.\n",
        "\n",
        "    The retriever will be used to pass relevant website embeddings to the LLM along with user queries."
      ]
    },
    {
      "cell_type": "markdown",
      "metadata": {
        "id": "WomGvIAVjZeI"
      },
      "source": [
        "### Read and parse the website data\n",
        "\n",
        "LangChain provides a wide variety of document loaders. To read the website data as a document, you will use the `WebBaseLoader` from LangChain.\n",
        "\n",
        "To know more about how to read and parse input data from different sources using the document loaders of LangChain, read LangChain's [document loaders guide](https://python.langchain.com/docs/integrations/document_loaders)."
      ]
    },
    {
      "cell_type": "markdown",
      "metadata": {
        "id": "olIlIOYrJTlF"
      },
      "source": [
        "If you only want to select a specific portion of the website data to add context to the prompt, you can use regex, text slicing, or text splitting.\n",
        "\n",
        "In this example, you'll use Python's `split()` function to extract the required portion of the text. The extracted text should be converted back to LangChain's `Document` format."
      ]
    },
    {
      "cell_type": "code",
      "execution_count": 97,
      "metadata": {},
      "outputs": [],
      "source": [
        "def extract_dict_values(_dict):\n",
        "    return [val for key,val in _dict.items()]"
      ]
    },
    {
      "cell_type": "code",
      "execution_count": 98,
      "metadata": {},
      "outputs": [],
      "source": [
        "disease_youtube_docs = extract_dict_values(disease_youtube_doc)\n",
        "disease_web_docs = extract_dict_values(disease_web_doc)\n",
        "insurance_web_docs = extract_dict_values(insurance_web_doc)\n",
        "claims_pdf_docs = extract_dict_values(claims_pdf_doc)\n",
        "disease_pdf_docs = extract_dict_values(disease_pdf_doc)"
      ]
    },
    {
      "cell_type": "code",
      "execution_count": 99,
      "metadata": {},
      "outputs": [],
      "source": [
        "docs = []\n",
        "for i in zip(disease_youtube_docs, claims_pdf_docs, disease_pdf_docs, disease_web_docs, insurance_web_docs): #, #\n",
        "    docs.extend(i)\n",
        "\n",
        "def flatten_list(nested_list):\n",
        "  \"\"\"Flattens a nested list into a single list.\n",
        "\n",
        "  Args:\n",
        "    nested_list: A list that may contain other lists.\n",
        "\n",
        "  Returns:\n",
        "    A single list containing all elements from the nested list.\n",
        "  \"\"\"\n",
        "\n",
        "  flat_list = []\n",
        "  for item in nested_list:\n",
        "    if isinstance(item, list):\n",
        "      flat_list.extend(flatten_list(item))\n",
        "    else:\n",
        "      flat_list.append(item)\n",
        "  return flat_list"
      ]
    },
    {
      "cell_type": "code",
      "execution_count": 100,
      "metadata": {},
      "outputs": [],
      "source": [
        "docs = flatten_list(docs)"
      ]
    },
    {
      "cell_type": "code",
      "execution_count": 101,
      "metadata": {},
      "outputs": [],
      "source": [
        "def should_keep_document(document, min_length=150, min_density=0.2):\n",
        "  \"\"\"Checks if a document meets the criteria for being kept.\n",
        "\n",
        "  Args:\n",
        "    document: The document to check.\n",
        "    min_length: The minimum length (in characters) for a document to be kept.\n",
        "    min_density: The minimum information density (ratio of unique words to total words) for a document to be kept.\n",
        "\n",
        "  Returns:\n",
        "    True if the document meets the criteria, False otherwise.\n",
        "  \"\"\"\n",
        "\n",
        "  if len(document) < min_length:\n",
        "    return False\n",
        "\n",
        "  word_count = len(document.split())\n",
        "  unique_words = len(set(document.split()))\n",
        "  density = unique_words / word_count\n",
        "\n",
        "  return density >= min_density"
      ]
    },
    {
      "cell_type": "code",
      "execution_count": 103,
      "metadata": {},
      "outputs": [],
      "source": [
        "docs = [i for i in docs if should_keep_document(i.page_content)]"
      ]
    },
    {
      "cell_type": "markdown",
      "metadata": {
        "id": "yDsdAg4Fjo5o"
      },
      "source": [
        "### Initialize Gemini's embedding model\n",
        "\n",
        "To create the embeddings from the website data, you'll use Gemini's embedding model, **embedding-001** which supports creating text embeddings.\n",
        "\n",
        "To use this embedding model, you have to import `GoogleGenerativeAIEmbeddings` from LangChain. To know more about the embedding model, read Google AI's [language documentation](https://ai.google.dev/models/gemini)."
      ]
    },
    {
      "cell_type": "code",
      "execution_count": 32,
      "metadata": {
        "id": "8NXNTrjp0jdh"
      },
      "outputs": [
        {
          "name": "stderr",
          "output_type": "stream",
          "text": [
            "/opt/conda/lib/python3.11/site-packages/tqdm/auto.py:21: TqdmWarning: IProgress not found. Please update jupyter and ipywidgets. See https://ipywidgets.readthedocs.io/en/stable/user_install.html\n",
            "  from .autonotebook import tqdm as notebook_tqdm\n"
          ]
        }
      ],
      "source": [
        "from langchain_google_genai import GoogleGenerativeAIEmbeddings\n",
        "\n",
        "# If there is no environment variable set for the API key, you can pass the API\n",
        "# key to the parameter `google_api_key` of the `GoogleGenerativeAIEmbeddings`\n",
        "# function: `google_api_key = \"key\"`.\n",
        "\n",
        "gemini_embeddings = GoogleGenerativeAIEmbeddings(model=\"models/embedding-001\", google_api_key=google_api_key)"
      ]
    },
    {
      "cell_type": "markdown",
      "metadata": {
        "id": "m9Vzw30wpebs"
      },
      "source": [
        "### Store the data using Chroma\n",
        "\n",
        "To create a Chroma vector database from the website data, you will use the `from_documents` function of `Chroma`. Under the hood, this function creates embeddings from the documents created by the document loader of LangChain using any specified embedding model and stores them in a Chroma vector database.  \n",
        "\n",
        "You have to specify the `docs` you created from the website data using LangChain's `WebBasedLoader` and the `gemini_embeddings` as the embedding model when invoking the `from_documents` function to create the vector database from the website data. You can also specify a directory in the `persist_directory` argument to store the vector store on the disk. If you don't specify a directory, the data will be ephemeral in-memory.\n"
      ]
    },
    {
      "cell_type": "code",
      "execution_count": 33,
      "metadata": {
        "id": "n1VwhUQMvpcN"
      },
      "outputs": [],
      "source": [
        "# Save to disk\n",
        "vectorstore = Chroma.from_documents(\n",
        "                     documents=docs,                 # Data\n",
        "                     embedding=gemini_embeddings,    # Embedding model\n",
        "                    #  persist_directory=\"./chroma_db\" # Directory to save data\n",
        "                     )"
      ]
    },
    {
      "cell_type": "markdown",
      "metadata": {
        "id": "WFKyb3JXOeaQ"
      },
      "source": [
        "### Create a retriever using Chroma\n",
        "\n",
        "You'll now create a retriever that can retrieve website data embeddings from the newly created Chroma vector store. This retriever can be later used to pass embeddings that provide more context to the LLM for answering user's queries.\n",
        "\n",
        "\n",
        "To load the vector store that you previously stored in the disk, you can specify the name of the directory that contains the vector store in `persist_directory` and the embedding model in the `embedding_function` arguments of Chroma's initializer.\n",
        "\n",
        "You can then invoke the `as_retriever` function of `Chroma` on the vector store to create a retriever."
      ]
    },
    {
      "cell_type": "code",
      "execution_count": 59,
      "metadata": {
        "colab": {
          "base_uri": "https://localhost:8080/"
        },
        "id": "s3t4kmzIOZQq",
        "outputId": "73b86ff5-5437-496d-ee95-613cb45dbe9f"
      },
      "outputs": [
        {
          "name": "stdout",
          "output_type": "stream",
          "text": [
            "15\n"
          ]
        }
      ],
      "source": [
        "# Load from disk\n",
        "vectorstore_disk = Chroma(\n",
        "                    #     persist_directory=\"./chroma_db\",       # Directory of db\n",
        "                        embedding_function=gemini_embeddings   # Embedding model\n",
        "                   )\n",
        "# Get the Retriever interface for the store to use later.\n",
        "# When an unstructured query is given to a retriever it will return documents.\n",
        "# Read more about retrievers in the following link.\n",
        "# https://python.langchain.com/docs/modules/data_connection/retrievers/\n",
        "#\n",
        "# Since only 1 document is stored in the Chroma vector store, search_kwargs `k`\n",
        "# is set to 1 to decrease the `k` value of chroma's similarity search from 4 to\n",
        "# 1. If you don't pass this value, you will get a warning.\n",
        "retriever = vectorstore_disk.as_retriever( search_kwargs={\"k\": 15}) #\" \"score_threshold\": .3 search_type ='similarity_score_threshold',\n",
        "\n",
        "# Check if the retriever is working by trying to fetch the relevant docs related\n",
        "# to the word 'climate'. If the length is greater than zero, it means that\n",
        "# the retriever is functioning well.\n",
        "print(len(retriever.get_relevant_documents(\"claims for critical illness\")))"
      ]
    },
    {
      "cell_type": "code",
      "execution_count": 60,
      "metadata": {},
      "outputs": [
        {
          "data": {
            "text/plain": [
              "[Document(page_content='Life after cardiac arrest\\nInformation for survivors and their loved ones \\nPublished in 2021 by the Swedish Resuscitation Council and the Swedish Heart and Lung Association', metadata={'Source': 'pdf', 'functions': 'disease'}),\n",
              " Document(page_content='× SUBSCRIBE TO HEALTHXCHANGE  \\nSubscribe to our mailing list to get the updates to your inbox  \\nPlease enter a valid email.\\xa0Entered email already exists.Please enter a valid email.Subscribe  \\nAbout Us  \\nCorporate Profile Regional Health System Global Health Newsroom Procurement Contact Us  \\nPatient Care  \\nConditions & Treatments Specialties & Services Find A Doctor Patient & Visitor Info e-Services  \\nResearch  \\nResearch & Innovation  \\nEducation  \\nEducation & Training  \\nCareers  \\nWhy Choose Us Career Choices Scholarships Sponsorships Job Opportunities Contact Us  \\nGiving  \\nWhy Give? Get Involved Your Gift at Work Be Informed Make a Gift  \\n10 Hospital Boulevard, #19-01 SingHealth Tower. Singapore 168582+65 6225 0488  \\n© 2021 SingHealth Group. All Rights Reserved.  \\nTerms of Use PDPA Rate Our Website Report Vulnerability  \\nBest viewed on IE 11, Firefox 27, Chrome 22, and Safari 7 and above.  \\nFind a Doctor Conditions & Treatments Home Appointments e-Services', metadata={'Source': 'web', 'functions': 'disease'}),\n",
              " Document(page_content=\"You may be trying to access this site from a secured browser on the server. Please enable scripts and reload this page.  \\nTurn on more accessible mode  \\nTurn off more accessible mode  \\nSkip Ribbon Commands  \\nSkip to main content  \\nTurn off Animations  \\nTurn on Animations  \\nWe’re sorry! Something went wrong  \\n\\xa0  \\nIt looks like your browser does not have JavaScript enabled. Please turn on JavaScript and try again.  \\nAppointments  \\nFind a Doctor  \\nContact Us  \\nMenu  \\nAbout SingHealth Patient Care Research & Innovation Education & TrainingCareers Giving  \\nBack to Home  \\nCorporate Profile  \\nAbout UsOur LeadershipWhistle-blowing Policy  \\nRegional Health System  \\nAbout UsKeep WellGet WellLive WellGet InvolvedSingHealth Community HospitalsSingHealth Polyclinics  \\nGlobal Health  \\nSingHealth Duke-NUSGlobal Health InstituteInternational Collaborations  \\nNewsroom  \\nPress ReleasesNews ArticlesAnnual ReportsSingapore HealthDefining MedPublicationsTomorrow's MedicineFaces of Healthcare\", metadata={'Source': 'web', 'functions': 'disease'}),\n",
              " Document(page_content=\"View all search results  \\nNo result  \\nThere are currently no results matching your search. Try other keywords.  \\nAdvisor Login  \\niSmartWebeIRIS  \\nLogin  \\nClaims  \\nMake a claim onlineClaims guideClaims formsWorkshop & clinic finderFAQs  \\nHelp  \\nFAQsGeneral formsPolicy formsRenew my insuranceContact us  \\nUrgent Support  \\nCall 6322 2072  \\nI'm looking for  \\nAccidents  \\nRemove  \\nCritical  \\nRemove  \\nInsurance  \\nRemove  \\nCritical Illness  \\nBig 3 Critical Illness  \\nCritical Illness Plus  \\nEmergency Support  \\nCall 6322 2072  \\nwho is this claim for?  \\n1  \\ndetails  \\n2  \\ndeclaration  \\nnext  \\nDownload FWD SG app  \\nProducts  \\nUseful links  \\nHelp centerClaims formsSpeak to an adviserBlogs  \\nAbout  \\nAbout usOur teamNewsroomCareer  \\n6820 8888  \\nProducts  \\nUseful links\", metadata={'Source': 'web', 'functions': 'claims'}),\n",
              " Document(page_content=\"DisclaimerOnline securityPersonal data protection policy & practicesPolicy owners' protection scheme  \\nDisclaimerOnline securityPersonal data protection policy & practicesPolicy owners' protection scheme  \\n© 2022 FWD Singapore Pte. Ltd.\", metadata={'Source': 'web', 'functions': 'claims'}),\n",
              " Document(page_content='the brain is bombarded with stimulation, it can become \\noverloaded and fail to function normally. It’s important to \\nunderstand that brain fatigue does not have to be due to \\nbrain damage, and that brain fatigue itself can lead to the \\nexperience of cognitive problems.\\nWhen we are tired, we find it difficult to concentrate \\nand this can affect our memory. Minimizing the conse-\\nquences of fatigue is therefore important to make daily \\nlife work. The environment should be calm and structured \\nwith the possibility of regular breaks to alternate rest and \\nactivity. Rest allows many to be more active, and resting in Health and quality  \\nof life in cardiac  \\narrest survivors \\n»', metadata={'Source': 'pdf', 'functions': 'disease'}),\n",
              " Document(page_content='7\\nEarly defibrillation \\n– to restart the heart\\nDefbrillation means that an electrical shock is deliv -\\nered to the heart using a defibrillator and electrodes \\nthat are placed on the chest. The shock can break elec -\\ntrical chaos (ventricular fibrillation) and help to restart \\nthe heart. Defibrillation within 3 minutes can, in some \\ncases, increase the chance of survival up to 70%.\\nEarly CPR  \\n– to buy time\\nEarly CPR increases the chance of sur -\\nvival by 2-3 times compared to if no CPR \\nis started before the ambulance arrives. \\nIf a person suffers from a cardiac arrest, \\nCPR should be started immediately. \\nThrough CPR, a method consisting of \\nchest compressions and rescue breaths, \\nblood is oxygenated and pumped \\naround to the body’s organs while wait -\\ning for a defibrillator or other treatment. \\nAccording to current guidelines, a com-\\nbination of 30 chest compressions and \\n2 rescue breaths should be given. The \\nemergency operator can help untrained \\nlifesavers with instructions by phone. \\nIn these cases, only chest compressions \\nare recommended. In hospitals and \\nambulances, a compression device is \\nsometimes used that provides mechani-\\ncal compressions.', metadata={'Source': 'pdf', 'functions': 'disease'}),\n",
              " Document(page_content='tunity to visit their loved ones and have the chance to ask \\ntheir own questions of the medical staff. \\n”It was agonizing to just sit and wait. I shielded myself and \\nwas prepared to be focused on if or when something new hap-\\npened. Holding my wife’s hand was a way to transfer energy from \\nme to her.” \\n”I did not know if I would become a widow or if I would get to \\nbring my husband home again and, if so, in what condition? How \\nwould it be with the whole family? It was a very anxious time not \\nto know what would happen. The doctors had a hard time saying \\nanything about the prognosis, but otherwise provided informa-\\ntion about everything they could.” \\n“My thoughts initially revolved around I only have him. He’s \\njust graduated. How can that happen? The emergency room doc-\\ntor said ’he will fix this’. But at the same time, I knew he couldn’t \\nknow either! At the ICU, they said ‘he’s in good condition to cope', metadata={'Source': 'pdf', 'functions': 'disease'}),\n",
              " Document(page_content=\"ClaimsHelp  \\nMake a claim onlineClaims guideClaims formsWorkshop & clinic finderFAQs  \\nSupport  \\nFAQsGeneral formsPolicy formsRenew my insuranceContact us  \\nEmergency support  \\nCall 6322 2072  \\nLogin For AdvisorLogin  \\nSmarteIRIS  \\nI'm looking for  \\nAccidents  \\nRemove  \\nCritical  \\nRemove  \\nInsurance  \\nRemove  \\nCritical Illness  \\nBig 3 Critical Illness  \\nCritical Illness Plus  \\nEmergency Support  \\nCall 6322 2072  \\nCall 6322 2072  \\n24 search results  \\nHealth and life product  \\nBig 3 Critical Illness  \\nGet coverage for the 3 most commonly claimed critical illness in Singapore at 1/3 the cost with a one-time full payout.  \\nHealth and life product  \\nBig 3 Critical Illness  \\nGet coverage for the 3 most commonly claimed critical illness in Singapore at 1/3 the cost with a one-time full payout.  \\nHealth and life product  \\nBig 3 Critical Illness  \\nGet coverage for the 3 most commonly claimed critical illness in Singapore at 1/3 the cost with a one-time full payout.  \\nView all search results\", metadata={'Source': 'web', 'functions': 'claims'}),\n",
              " Document(page_content=\"Your heart has an electrical system that regulates your heartbeat and keeps blood pumping around your body. A cardiac arrest happens when a problem in this electrical system causes your heart to stop pumping blood. It's commonly caused by a heart attack or an inherited heart condition. Max wasn't aware that he had an\\ninherited heart condition until he had a cardiac arrest while at work. The electrical circuit in Max's heart stopped working as it should instead of beating regularly and effectively pumping blood around his body Max's heart quivered stopping blood flow and causing him to collapse. This life-threatening heart rhythm is called ventricular fibrillation (or VF for short) Max will have no memory of collapsing as the lack of blood and oxygen to his brain causes brain cells to die creating temporary memory loss. Max was unconscious, unresponsive and not breathing properly his colleague quickly called 999 and another began CPR chest compressions took over the role of\"),\n",
              " Document(page_content='Career Choices  \\nDoctorsNursesAllied Health ProfessionalsManagement and AdministrationResearchAncillary and Support  \\nScholarships  \\nScholarships OverviewBe an Allied Health ScholarBe a Nursing Scholar  \\nSponsorships  \\nSponsorships OverviewAllied Health SponsorshipNursing Sponsorship  \\nJob Opportunities  \\nContact Us  \\nBack to Home  \\nWhy Give  \\nFinding a CureAdvancing Medical EducationHelping our PatientsAppreciating your supportFurthering Donor Impact  \\nGet Involved  \\nMake a GiftLeave a LegacyBecome a Corporate DonorCreate a Named Fund  \\nYour Gift at Work  \\nMeet Grateful PatientsMeet Donors like YouMeet Our ResearchersMeet Our Educators  \\nBe Informed  \\nInspireGiving News  \\nMake a Gift  \\nHome to skip to the main content on a page to skip to the main content on a page  \\nHome > PageNotFoundError  \\nWe’re sorry! Something went wrong', metadata={'Source': 'web', 'functions': 'disease'}),\n",
              " Document(page_content=\"the heart which kept blood flowing around Max's body. Rescue breaths made sure oxygen continued to get into his blood through the lungs. Both were crucial for keeping Max's brain functioning. On the phone the emergency operator instructed Max's colleague to find a defibrillator they followed its instructions 'Press the pads firmly to the bare skin of the patient' and delivered an electrical shock to try and restore Max's normal heart rhythm. 'Shock advised' However, Max didn't regain consciousness so his colleague continued CPR. Paramedics soon arrived and transported Max to hospital for further treatment. Max had the best possible chance of\\nrecovery thanks to immediate CPR that kept blood pumping to his brain and body. For more information on cardiac arrest visit BHF.org.uk/cardiacarrest\"),\n",
              " Document(page_content='6 \\nLIFE AFTER CARDIAC ARREST Information for survivors and their loved onesEvery year in Sweden, approximately \\n8,500 people receive CPR after suffering \\na cardiac arrest. Of these, approximate -\\nly 1,500 lives are saved. Cardiac arrest \\nmeans that the heart’s ability to pump \\nceases. This can be caused by various \\ndisorders of the heart rhythm, such as \\nchaotic electrical activity in the heart’s \\nchambers, or that the heart’s activity \\nceases completely. An unexpected car -\\ndiac arrest is a sudden, dramatic event, \\nwhether it occurs in a hospital, out in \\npublic, or at home. The chance of survival depends on \\na series of measures that are usually \\ndescribed as links in a chain, “The Chain \\nof Survival. ”  l  Early recognition and call for help – to \\nprevent cardiac arrest\\nl  Early CPR – to buy time\\nl  Early defibrillation – to restart the \\nheart\\nl  Post-resuscitation care – to restore \\ngood quality of life \\nThe time to treatment is crucial for \\nwhether a life can be saved. The focus \\nof this brochure will be the fourth link, \\nwhich includes follow-up and rehabili-\\ntation.\\nSudden pain in the center of the chest or severe shortness of \\nbreath are common symptoms of myocardial infarction. Myocar -\\ndial infarction is the most common cause of cardiac arrest.  It is \\ntherefore important to immediately call for an ambulance \\nif such symptoms appear. Early recognition of cardiac \\narrest and call for help (112) is crucial to be able to dis-\\npatch an ambulance, to start CPR and to provide early \\nuse of an AED. The dispatcher can provide instructions of \\nhow to perform CPR before the emergency medical \\nservices arrives. Within healthcare, it is important to \\nhave systems to recognize patient deterioration to \\nbe able to prevent cardiac arrest. When an in-hospi-\\ntal cardiac arrest occurs, a medical emergency team \\nis often called upon by using an internal alarm \\nsystem. The Chain of Survival \\nEarly recognition and call for help  \\n– to prevent cardiac arrestpeople receive CPR every year after suffering \\na cardiac arrest.8 500\\n Early recognition and call for help                                                                                 Early CPR                                                                                       Early def brillation                                                                                      Post-resuscitation care                                                              \\n \\n                                                                                                                                    – to prevent cardiac arrest                                                           \\n                                                                                                                                                    – to buy time                                                           \\n                                                                                                                                                    – to restart the heart                                                          \\n \\n                                                                                                                                                    – to restore good quality of life', metadata={'Source': 'pdf', 'functions': 'disease'}),\n",
              " Document(page_content='4 \\nLIFE AFTER CARDIAC ARREST Information for survivors and their loved ones““n Survivors and loved ones who share their stories: \\nEllen, survivor: \\n“I suffered a sudden cardiac arrest at the age of 38. I was lucky \\nto receive help from both my husband and the “SMS-lifesavers” \\nwho came fast. After almost 24 hours in a coma, where my \\nfamily didn’t know if I would live or die, I woke up. \\nMy world became very different from the one I knew before. \\nI was incredibly tired, both physically and mentally. I experi-\\nenced enormous brain fatigue, difficulties with memory and \\nconcentration, sensitivity to sound, and great sadness. My chil-\\ndren, husband and relatives all had to adapt to my limitations, \\nand I had to learn to cope with the new me. \\nThree years have passed and I feel much better. It’s been \\na challenge to deal with my difficulties and learning new \\nstrategies for getting through the day. Now, I live a very good \\nlife where I’ve accepted the changes, and adaptations are an \\nimportant part of making daily life work for me. ”Karin, loved one: \\n“The unthinkable thing that just couldn’t happen, happened. \\nOur daughter had a sudden cardiac arrest one morning at \\nhome. Thereafter followed a day where we, her parents, hus-\\nband, and siblings found ourselves in a bubble, in a complete \\nvacuum, in a tiny room for relatives at the intensive care ward. \\nWe lived in complete uncertainty whether she would live or \\nif she would have serious brain damage from the 15 minutes of \\nlack of oxygen during the heart attack. The hospital staff were \\nwonderful and tried to support us in every way. \\nBut there were questions they just couldn’t answer. It was a \\nmagical moment when she woke out of her coma, looked at us \\nand said, “Where am I? What happened?”“After almost 24 hours in a coma, where my family didn’t  \\nknow if I would live or die, I woke up.”', metadata={'Source': 'pdf', 'functions': 'disease'}),\n",
              " Document(page_content='10 \\nLIFE AFTER CARDIAC ARREST Information for survivors and their loved onesVarious professions and competencies are involved in fol-\\nlow-up and rehabilitation after cardiac arrest. Representa-\\ntives from cardiology, ICU, neurology, and physiotherapy \\nare often engaged in care. Other professionals such as \\noccupational therapists, neuropsychologists or counselors \\nare involved as needed. This can look different depending \\non where you are in the country, but it is important that \\nlocal contacts are established and collaborations in the \\nfollow up are built. \\nAll patients should be offered a return visit to the \\nhospital within 1-3 months after discharge. Such fol-\\nlow-ups usually takes place at a cardiac clinic and/or post \\nICU-clinic. Follow-up of children and their relatives should \\ninitially be organized by a specialist. \\nSwedish CPR Council guidelines state that a structured \\nfollow-up should be held to confirm that the patients and \\nrelatives have received sufficient information on the cause \\nof cardiac arrest, the course of events, sick leave, driving, \\netc. \\nFurthermore, an examination is done of any remaining \\ndifficulties related to the cardiac arrest, such as physical \\nfatigue, brain fatigue, pain, physical limitations, cognitive \\n(mental) or emotional difficulties. If the need for extra support measures is identified, the follow-up should lead \\nto a plan for further investigation and possible rehabilita-\\ntion. Cooperation with primary care is important as much \\nof the support is likely to take place there.\\nThose who have received an ICD/pacemaker are regularly \\ncalled to the hospital’s cardiac clinic for check-ups.\\nThe guidelines can be read on the Swedish CPR Coun-\\ncil’s website hlr.nu. \\nwww.hlr.nu/vard-efter-hjartstopp/\\nThe rehabilitation plan depends largely on the cause of \\nthe cardiac arrest and the possible consequences caused \\nby the event. Since myocardial infarctions and other heart \\ndiseases cause most cardiac arrests, an important part \\nof post-care is to reduce the risk of developing new heart \\nproblems, so-called secondary prevention. It can consist \\nof, for example, drugs that lower blood pressure and blood \\nfats, help to quit smoking, physical activity, and stress \\nmanagement. Some cardiac arrest survivors are offered to \\ntrain in special “heart groups” with the support of a phys-\\niotherapist for a period of time. Many hospitals also offer \\n“cardiac schools”, which are a series of lectures in which \\ndifferent professional groups participate.\\nIn the case that cognitive abilities are affected, for \\nexample, if there are effects on memory, concentration, or \\nability to plan, continued assessment by an occupational \\ntherapist or neuropsychologist may be warranted. It is im-\\nportant to try to understand where these difficulties arise \\nfrom. Part of the problem can be related to brain damage \\nthat occurred during the cardiac arrest, but it can also \\ndepend on other factors such as physical exhaustion, brain \\nfatigue, poor sleep, or emotional difficulties. \\nDifferent strategies and aids can make daily life easier. \\nThese can include different types of memory support \\ndevices such as alarms, calendars or to-do lists, but they \\ncan also involve adapting to daily life and doing things \\ndifferently. For the few survivors who have suffered severe \\nbrain damage, care and support at a specialized rehabilita-\\ntion unit and/or cognitive medical unit may be required.\\nBecause emotional reactions are not uncommon, it \\nis appropriate to offer both patients and loved ones the \\nsupport of a counselor or psychologist who can assess the \\nneed for additional support. Follow-up and rehabilitation', metadata={'Source': 'pdf', 'functions': 'disease'})]"
            ]
          },
          "execution_count": 60,
          "metadata": {},
          "output_type": "execute_result"
        }
      ],
      "source": [
        "retriever.get_relevant_documents(\"cardiac arrest\")"
      ]
    },
    {
      "cell_type": "code",
      "execution_count": 104,
      "metadata": {},
      "outputs": [
        {
          "data": {
            "text/plain": [
              "[Document(page_content='Life after cardiac arrest\\nInformation for survivors and their loved ones \\nPublished in 2021 by the Swedish Resuscitation Council and the Swedish Heart and Lung Association', metadata={'Source': 'pdf', 'functions': 'disease'}),\n",
              " Document(page_content='7\\nEarly defibrillation \\n– to restart the heart\\nDefbrillation means that an electrical shock is deliv -\\nered to the heart using a defibrillator and electrodes \\nthat are placed on the chest. The shock can break elec -\\ntrical chaos (ventricular fibrillation) and help to restart \\nthe heart. Defibrillation within 3 minutes can, in some \\ncases, increase the chance of survival up to 70%.\\nEarly CPR  \\n– to buy time\\nEarly CPR increases the chance of sur -\\nvival by 2-3 times compared to if no CPR \\nis started before the ambulance arrives. \\nIf a person suffers from a cardiac arrest, \\nCPR should be started immediately. \\nThrough CPR, a method consisting of \\nchest compressions and rescue breaths, \\nblood is oxygenated and pumped \\naround to the body’s organs while wait -\\ning for a defibrillator or other treatment. \\nAccording to current guidelines, a com-\\nbination of 30 chest compressions and \\n2 rescue breaths should be given. The \\nemergency operator can help untrained \\nlifesavers with instructions by phone. \\nIn these cases, only chest compressions \\nare recommended. In hospitals and \\nambulances, a compression device is \\nsometimes used that provides mechani-\\ncal compressions.', metadata={'Source': 'pdf', 'functions': 'disease'}),\n",
              " Document(page_content='the brain is bombarded with stimulation, it can become \\noverloaded and fail to function normally. It’s important to \\nunderstand that brain fatigue does not have to be due to \\nbrain damage, and that brain fatigue itself can lead to the \\nexperience of cognitive problems.\\nWhen we are tired, we find it difficult to concentrate \\nand this can affect our memory. Minimizing the conse-\\nquences of fatigue is therefore important to make daily \\nlife work. The environment should be calm and structured \\nwith the possibility of regular breaks to alternate rest and \\nactivity. Rest allows many to be more active, and resting in Health and quality  \\nof life in cardiac  \\narrest survivors \\n»', metadata={'Source': 'pdf', 'functions': 'disease'}),\n",
              " Document(page_content=\"You may be trying to access this site from a secured browser on the server. Please enable scripts and reload this page.  \\nTurn on more accessible mode  \\nTurn off more accessible mode  \\nSkip Ribbon Commands  \\nSkip to main content  \\nTurn off Animations  \\nTurn on Animations  \\nWe’re sorry! Something went wrong  \\n\\xa0  \\nIt looks like your browser does not have JavaScript enabled. Please turn on JavaScript and try again.  \\nAppointments  \\nFind a Doctor  \\nContact Us  \\nMenu  \\nAbout SingHealth Patient Care Research & Innovation Education & TrainingCareers Giving  \\nBack to Home  \\nCorporate Profile  \\nAbout UsOur LeadershipWhistle-blowing Policy  \\nRegional Health System  \\nAbout UsKeep WellGet WellLive WellGet InvolvedSingHealth Community HospitalsSingHealth Polyclinics  \\nGlobal Health  \\nSingHealth Duke-NUSGlobal Health InstituteInternational Collaborations  \\nNewsroom  \\nPress ReleasesNews ArticlesAnnual ReportsSingapore HealthDefining MedPublicationsTomorrow's MedicineFaces of Healthcare\", metadata={'Source': 'web', 'functions': 'disease'}),\n",
              " Document(page_content=\"Your heart has an electrical system that regulates your heartbeat and keeps blood pumping around your body. A cardiac arrest happens when a problem in this electrical system causes your heart to stop pumping blood. It's commonly caused by a heart attack or an inherited heart condition. Max wasn't aware that he had an\\ninherited heart condition until he had a cardiac arrest while at work. The electrical circuit in Max's heart stopped working as it should instead of beating regularly and effectively pumping blood around his body Max's heart quivered stopping blood flow and causing him to collapse. This life-threatening heart rhythm is called ventricular fibrillation (or VF for short) Max will have no memory of collapsing as the lack of blood and oxygen to his brain causes brain cells to die creating temporary memory loss. Max was unconscious, unresponsive and not breathing properly his colleague quickly called 999 and another began CPR chest compressions took over the role of\"),\n",
              " Document(page_content='× SUBSCRIBE TO HEALTHXCHANGE  \\nSubscribe to our mailing list to get the updates to your inbox  \\nPlease enter a valid email.\\xa0Entered email already exists.Please enter a valid email.Subscribe  \\nAbout Us  \\nCorporate Profile Regional Health System Global Health Newsroom Procurement Contact Us  \\nPatient Care  \\nConditions & Treatments Specialties & Services Find A Doctor Patient & Visitor Info e-Services  \\nResearch  \\nResearch & Innovation  \\nEducation  \\nEducation & Training  \\nCareers  \\nWhy Choose Us Career Choices Scholarships Sponsorships Job Opportunities Contact Us  \\nGiving  \\nWhy Give? Get Involved Your Gift at Work Be Informed Make a Gift  \\n10 Hospital Boulevard, #19-01 SingHealth Tower. Singapore 168582+65 6225 0488  \\n© 2021 SingHealth Group. All Rights Reserved.  \\nTerms of Use PDPA Rate Our Website Report Vulnerability  \\nBest viewed on IE 11, Firefox 27, Chrome 22, and Safari 7 and above.  \\nFind a Doctor Conditions & Treatments Home Appointments e-Services', metadata={'Source': 'web', 'functions': 'disease'}),\n",
              " Document(page_content='6 \\nLIFE AFTER CARDIAC ARREST Information for survivors and their loved onesEvery year in Sweden, approximately \\n8,500 people receive CPR after suffering \\na cardiac arrest. Of these, approximate -\\nly 1,500 lives are saved. Cardiac arrest \\nmeans that the heart’s ability to pump \\nceases. This can be caused by various \\ndisorders of the heart rhythm, such as \\nchaotic electrical activity in the heart’s \\nchambers, or that the heart’s activity \\nceases completely. An unexpected car -\\ndiac arrest is a sudden, dramatic event, \\nwhether it occurs in a hospital, out in \\npublic, or at home. The chance of survival depends on \\na series of measures that are usually \\ndescribed as links in a chain, “The Chain \\nof Survival. ”  l  Early recognition and call for help – to \\nprevent cardiac arrest\\nl  Early CPR – to buy time\\nl  Early defibrillation – to restart the \\nheart\\nl  Post-resuscitation care – to restore \\ngood quality of life \\nThe time to treatment is crucial for \\nwhether a life can be saved. The focus \\nof this brochure will be the fourth link, \\nwhich includes follow-up and rehabili-\\ntation.\\nSudden pain in the center of the chest or severe shortness of \\nbreath are common symptoms of myocardial infarction. Myocar -\\ndial infarction is the most common cause of cardiac arrest.  It is \\ntherefore important to immediately call for an ambulance \\nif such symptoms appear. Early recognition of cardiac \\narrest and call for help (112) is crucial to be able to dis-\\npatch an ambulance, to start CPR and to provide early \\nuse of an AED. The dispatcher can provide instructions of \\nhow to perform CPR before the emergency medical \\nservices arrives. Within healthcare, it is important to \\nhave systems to recognize patient deterioration to \\nbe able to prevent cardiac arrest. When an in-hospi-\\ntal cardiac arrest occurs, a medical emergency team \\nis often called upon by using an internal alarm \\nsystem. The Chain of Survival \\nEarly recognition and call for help  \\n– to prevent cardiac arrestpeople receive CPR every year after suffering \\na cardiac arrest.8 500\\n Early recognition and call for help                                                                                 Early CPR                                                                                       Early def brillation                                                                                      Post-resuscitation care                                                              \\n \\n                                                                                                                                    – to prevent cardiac arrest                                                           \\n                                                                                                                                                    – to buy time                                                           \\n                                                                                                                                                    – to restart the heart                                                          \\n \\n                                                                                                                                                    – to restore good quality of life', metadata={'Source': 'pdf', 'functions': 'disease'}),\n",
              " Document(page_content='tunity to visit their loved ones and have the chance to ask \\ntheir own questions of the medical staff. \\n”It was agonizing to just sit and wait. I shielded myself and \\nwas prepared to be focused on if or when something new hap-\\npened. Holding my wife’s hand was a way to transfer energy from \\nme to her.” \\n”I did not know if I would become a widow or if I would get to \\nbring my husband home again and, if so, in what condition? How \\nwould it be with the whole family? It was a very anxious time not \\nto know what would happen. The doctors had a hard time saying \\nanything about the prognosis, but otherwise provided informa-\\ntion about everything they could.” \\n“My thoughts initially revolved around I only have him. He’s \\njust graduated. How can that happen? The emergency room doc-\\ntor said ’he will fix this’. But at the same time, I knew he couldn’t \\nknow either! At the ICU, they said ‘he’s in good condition to cope', metadata={'Source': 'pdf', 'functions': 'disease'}),\n",
              " Document(page_content='17\\nto know that the condition is not getting worse, and that \\nthere is help available. \\nThose who experience cognitive problems must first \\nbecome aware of what is not working as before, and then \\nbegin to learn to use compensatory strategies, such as \\nfinding alternative solutions. Occupational therapists are \\nkey people and are often available in primary care. There \\nare also special rehabilitation clinics that offer a thorough \\ninvestigation of the problems with the help of a mul-\\nti-professional team. The investigation is used to design an \\nindividual rehabilitation plan. Efforts to achieve set goals \\ncan then include a more intensive training period or more \\nlong-term support in various forms, such as to return to \\nwork or a functioning daily life.\\nOne thing that is commonly expressed by many who have \\nsurvived a cardiac arrest is that they feel a great deal of \\ngratitude towards the person or persons who saved their lives. They want to do what they can to spread the word \\nabout how important it is for as many people as possible \\nto start CPR on the day it is suddenly needed.\\n”I decided to leave what happened behind me and move on. The \\ninitiative with my own website is my way of being able to help \\nothers. I want to make my municipality heart-safe and have start-\\ned a fundraiser to get a defibrillator. My co-workers and friends \\nare educated and today I blog about my life.” \\n“Our daughter contacted the health service some time after the \\ncardiac arrest to try to get in touch with the two SMS lifesav -\\ners who came to the home when they received the alarm. The \\nlifesavers appreciated getting feedback on how it went, and their \\nmeeting with our daughter and her husband helped her, her \\nhusband, and the lifesavers themselves to process what they had \\nbeen through.”', metadata={'Source': 'pdf', 'functions': 'disease'}),\n",
              " Document(page_content='10 \\nLIFE AFTER CARDIAC ARREST Information for survivors and their loved onesVarious professions and competencies are involved in fol-\\nlow-up and rehabilitation after cardiac arrest. Representa-\\ntives from cardiology, ICU, neurology, and physiotherapy \\nare often engaged in care. Other professionals such as \\noccupational therapists, neuropsychologists or counselors \\nare involved as needed. This can look different depending \\non where you are in the country, but it is important that \\nlocal contacts are established and collaborations in the \\nfollow up are built. \\nAll patients should be offered a return visit to the \\nhospital within 1-3 months after discharge. Such fol-\\nlow-ups usually takes place at a cardiac clinic and/or post \\nICU-clinic. Follow-up of children and their relatives should \\ninitially be organized by a specialist. \\nSwedish CPR Council guidelines state that a structured \\nfollow-up should be held to confirm that the patients and \\nrelatives have received sufficient information on the cause \\nof cardiac arrest, the course of events, sick leave, driving, \\netc. \\nFurthermore, an examination is done of any remaining \\ndifficulties related to the cardiac arrest, such as physical \\nfatigue, brain fatigue, pain, physical limitations, cognitive \\n(mental) or emotional difficulties. If the need for extra support measures is identified, the follow-up should lead \\nto a plan for further investigation and possible rehabilita-\\ntion. Cooperation with primary care is important as much \\nof the support is likely to take place there.\\nThose who have received an ICD/pacemaker are regularly \\ncalled to the hospital’s cardiac clinic for check-ups.\\nThe guidelines can be read on the Swedish CPR Coun-\\ncil’s website hlr.nu. \\nwww.hlr.nu/vard-efter-hjartstopp/\\nThe rehabilitation plan depends largely on the cause of \\nthe cardiac arrest and the possible consequences caused \\nby the event. Since myocardial infarctions and other heart \\ndiseases cause most cardiac arrests, an important part \\nof post-care is to reduce the risk of developing new heart \\nproblems, so-called secondary prevention. It can consist \\nof, for example, drugs that lower blood pressure and blood \\nfats, help to quit smoking, physical activity, and stress \\nmanagement. Some cardiac arrest survivors are offered to \\ntrain in special “heart groups” with the support of a phys-\\niotherapist for a period of time. Many hospitals also offer \\n“cardiac schools”, which are a series of lectures in which \\ndifferent professional groups participate.\\nIn the case that cognitive abilities are affected, for \\nexample, if there are effects on memory, concentration, or \\nability to plan, continued assessment by an occupational \\ntherapist or neuropsychologist may be warranted. It is im-\\nportant to try to understand where these difficulties arise \\nfrom. Part of the problem can be related to brain damage \\nthat occurred during the cardiac arrest, but it can also \\ndepend on other factors such as physical exhaustion, brain \\nfatigue, poor sleep, or emotional difficulties. \\nDifferent strategies and aids can make daily life easier. \\nThese can include different types of memory support \\ndevices such as alarms, calendars or to-do lists, but they \\ncan also involve adapting to daily life and doing things \\ndifferently. For the few survivors who have suffered severe \\nbrain damage, care and support at a specialized rehabilita-\\ntion unit and/or cognitive medical unit may be required.\\nBecause emotional reactions are not uncommon, it \\nis appropriate to offer both patients and loved ones the \\nsupport of a counselor or psychologist who can assess the \\nneed for additional support. Follow-up and rehabilitation', metadata={'Source': 'pdf', 'functions': 'disease'}),\n",
              " Document(page_content=\"View all search results  \\nNo result  \\nThere are currently no results matching your search. Try other keywords.  \\nAdvisor Login  \\niSmartWebeIRIS  \\nLogin  \\nClaims  \\nMake a claim onlineClaims guideClaims formsWorkshop & clinic finderFAQs  \\nHelp  \\nFAQsGeneral formsPolicy formsRenew my insuranceContact us  \\nUrgent Support  \\nCall 6322 2072  \\nI'm looking for  \\nAccidents  \\nRemove  \\nCritical  \\nRemove  \\nInsurance  \\nRemove  \\nCritical Illness  \\nBig 3 Critical Illness  \\nCritical Illness Plus  \\nEmergency Support  \\nCall 6322 2072  \\nwho is this claim for?  \\n1  \\ndetails  \\n2  \\ndeclaration  \\nnext  \\nDownload FWD SG app  \\nProducts  \\nUseful links  \\nHelp centerClaims formsSpeak to an adviserBlogs  \\nAbout  \\nAbout usOur teamNewsroomCareer  \\n6820 8888  \\nProducts  \\nUseful links\", metadata={'Source': 'web', 'functions': 'claims'}),\n",
              " Document(page_content='12 \\nLIFE AFTER CARDIAC ARREST Information for survivors and their loved onesTo have had a cardiac arrest is a disorientating experience, \\nregardless of if you are the survivor or their loved one. \\nEveryone reacts differently. Most survivors recover well \\nand can live a completely normal life, but it often takes \\ntime. Difficulties with memory, concentration, fatigue \\nand emotional reactions are relatively common, espe-\\ncially in the beginning. Recovery times vary. The biggest \\nimprovements happen in the first couple of months but \\noften continue for a prolonged period. \\nIt is important that loved ones are involved in follow-up \\nand rehabilitation. If you or your loved one suffers a cardi-\\nac arrest, it can trigger a crisis reaction, which is perfectly \\nnormal. People can react very differently to the same \\nevents and situations, but there is help available. More \\ninformation is found at 1177, via your local health center.\\nIf there are younger children in a family where some-\\none has been affected, it is important that the school/\\npreschool is informed about what has happened, both \\nto meet and be able to support the child in the best way \\npossible. Traumatic experiences can stay with children for \\na long time and create new behaviors that those around \\nthem must be able to understand and handle. In the be-\\nginning, some patients and relatives testify to a feeling of \\nuncertainty and insecurity, but over time, improvements at various levels contribute to an increased sense of secu-\\nrity. In the quotes below, survivors and their loved ones \\nshare such feelings.\\n“In the beginning, I was worried. I could not sleep at night, \\nI was afraid that my heart would stop when I fell asleep. But it \\npassed after the first two weeks.”\\n“It was insecurity. Just the feeling that now all surveillance \\nwas gone. What would we do if something happened? Everyone \\nin the family was afraid that something would happen, that his \\nheart would stop again. The risk is minimal, they had said at the \\nhospital. But when my husband lay down on the sofa to rest, one \\nof the children was usually nearby and checked that his chest was \\nmoving, that he was breathing.” \\n“The doctors do not know why I had a cardiac arrest despite all \\nthe examinations. I have to cope with that.” \\n“I didn’t dare to walk alone in my usual exercise track at first. \\nSince I wasn’t allowed to drive, I took the bus into town. There I \\nwalked around to be among people if something were to happen. \\nA week later, I got tired of it and set out on the exercise track with \\npoles, a mobile phone and Nitrospray for my daily walks.” \\nBack to daily life', metadata={'Source': 'pdf', 'functions': 'disease'}),\n",
              " Document(page_content='8 \\nLIFE AFTER CARDIAC ARREST Information for survivors and their loved onesPost-resuscitation \\ncare  – to restore a \\ngood quality of life\\nEmergency care and time in the intensive care unit\\nImportant measures in the ambulance and the hospital \\nafter resuscitation are to monitor vital functions, as well \\nas to identify and treat the cause of cardiac arrest. After \\na cardiac arrest, a shorter or extended period of uncon-\\nsciousness often follows. Therefore, post-resuscitation care \\nis most often carried out in the intensive care unit (ICU), \\nwhere advanced equipment is used to monitor the heart \\nand other important organs. A nurse or nurse’s aide is \\nalways present in the patient’s room to be able to detect \\nand remedy any complications immediately. \\nDepending on the course of events and the cause of \\nthe cardiac arrest, the care at the ICU is adapted to the \\npatient’s needs. The care includes breathing assistance \\nwith a respirator and control of body temperature to avoid \\nfever. If a heart attack (myocardial infarction - blockage in \\nthe coronary arteries of the heart) is the suspected cause \\nof the cardiac arrest, a coronary X-ray and, if necessary, \\nballoon dilation is performed. \\nThis is a difficult time for the loved ones of those who \\nhave experienced a cardiac arrest, and the uncertainty is \\ngreat, the questions are many and the answers few. During \\nthe first 24 hours after a cardiac arrest, doctors cannot \\ngive a definite prognosis. The information to loved ones \\nbecomes more detailed and the prognosis more secure as \\nthe days pass following resuscitation. There is a risk that \\nbrain damage develops due to the lack of oxygen that \\noccurs in connection with cardiac arrest. Once cardiac \\nfunction has stabilized, the extent of any brain damage is \\nthe most important factor to assess. A more well-founded \\nassessment can usually be made 3-4 days after the cardiac \\narrest, although this can take longer.\\nWhilst in the ICU, patients who show signs of waking \\ncan often go in and out of consciousness. Many become \\nincreasingly aware of time and space and eventually recog-\\nnize their loved ones. It is not certain that those who wake \\nup during the time at ICU will remember it later. Instead, \\nit is often later in the hospital’s cardiac care ward that \\nconscious awakening takes place. Some patients describe \\nthe time at the ICU as a large black hole, many have dif-\\nfuse memory images. Time spent at the ICU varies. Most \\npatients spend two to three days there, some up to several \\nweeks. A diary of the care given at the ICU and in the \\nhospital ward can help to later fill in memory gaps. Things that may have seemed insignificant may have much more \\nmeaning later in the recovery phase. The diary is written \\nby the staff at the ICU, but medical staff may also encour-\\nage loved ones to write in it. The diary may also contain \\nphotos from this time of care.\\n“I have a memory gap. Ten days are lost from my memory, but \\nfortunately, they are documented in the diary. For me, it was \\nvaluable to read the diary together with my son, who wrote a lot \\nin it.”\\n“When I look at the pictures, it becomes really clear and dis-\\ntinct. I’ve been through this. In the pictures, I have a cooling suit \\non. I immediately think that it was lucky that I was unconscious \\nthen. I’m otherwise very sensitive to cold.” \\n“When I read the diary for the first time I nearly sat and cried. \\nOne of my sons had written, ‘You were as cold as if you were al-\\nmost dead.’ He seemed to have begun to prepare himself for that.” \\nLoved ones play an important role at the hospital by being \\npresent and close by. Children are often welcome to visit \\nwhile the patient is being cared for in the ICU. Studies \\nhave shown that children can cope well when visiting \\ncritically ill loved ones. They should be offered the oppor-\\ntunity to visit their loved ones and have the chance to ask \\ntheir own questions of the medical staff. \\n”It was agonizing to just sit and wait. I shielded myself and', metadata={'Source': 'pdf', 'functions': 'disease'}),\n",
              " Document(page_content=\"the heart which kept blood flowing around Max's body. Rescue breaths made sure oxygen continued to get into his blood through the lungs. Both were crucial for keeping Max's brain functioning. On the phone the emergency operator instructed Max's colleague to find a defibrillator they followed its instructions 'Press the pads firmly to the bare skin of the patient' and delivered an electrical shock to try and restore Max's normal heart rhythm. 'Shock advised' However, Max didn't regain consciousness so his colleague continued CPR. Paramedics soon arrived and transported Max to hospital for further treatment. Max had the best possible chance of\\nrecovery thanks to immediate CPR that kept blood pumping to his brain and body. For more information on cardiac arrest visit BHF.org.uk/cardiacarrest\"),\n",
              " Document(page_content='4 \\nLIFE AFTER CARDIAC ARREST Information for survivors and their loved ones““n Survivors and loved ones who share their stories: \\nEllen, survivor: \\n“I suffered a sudden cardiac arrest at the age of 38. I was lucky \\nto receive help from both my husband and the “SMS-lifesavers” \\nwho came fast. After almost 24 hours in a coma, where my \\nfamily didn’t know if I would live or die, I woke up. \\nMy world became very different from the one I knew before. \\nI was incredibly tired, both physically and mentally. I experi-\\nenced enormous brain fatigue, difficulties with memory and \\nconcentration, sensitivity to sound, and great sadness. My chil-\\ndren, husband and relatives all had to adapt to my limitations, \\nand I had to learn to cope with the new me. \\nThree years have passed and I feel much better. It’s been \\na challenge to deal with my difficulties and learning new \\nstrategies for getting through the day. Now, I live a very good \\nlife where I’ve accepted the changes, and adaptations are an \\nimportant part of making daily life work for me. ”Karin, loved one: \\n“The unthinkable thing that just couldn’t happen, happened. \\nOur daughter had a sudden cardiac arrest one morning at \\nhome. Thereafter followed a day where we, her parents, hus-\\nband, and siblings found ourselves in a bubble, in a complete \\nvacuum, in a tiny room for relatives at the intensive care ward. \\nWe lived in complete uncertainty whether she would live or \\nif she would have serious brain damage from the 15 minutes of \\nlack of oxygen during the heart attack. The hospital staff were \\nwonderful and tried to support us in every way. \\nBut there were questions they just couldn’t answer. It was a \\nmagical moment when she woke out of her coma, looked at us \\nand said, “Where am I? What happened?”“After almost 24 hours in a coma, where my family didn’t  \\nknow if I would live or die, I woke up.”', metadata={'Source': 'pdf', 'functions': 'disease'})]"
            ]
          },
          "execution_count": 104,
          "metadata": {},
          "output_type": "execute_result"
        }
      ],
      "source": [
        "retriever.get_relevant_documents(\"provide an summary on cardiac arrest\")"
      ]
    },
    {
      "cell_type": "code",
      "execution_count": 106,
      "metadata": {},
      "outputs": [],
      "source": [
        "docs_inspect = retriever.get_relevant_documents(\"Claim\")"
      ]
    },
    {
      "cell_type": "code",
      "execution_count": 105,
      "metadata": {},
      "outputs": [],
      "source": [
        "docs_inspect = retriever.get_relevant_documents(\"FWD Critical Illness Plus\")"
      ]
    },
    {
      "cell_type": "code",
      "execution_count": 80,
      "metadata": {},
      "outputs": [
        {
          "data": {
            "text/plain": [
              "[{'Source': 'web', 'functions': 'claims'},\n",
              " {'Source': 'web', 'functions': 'claims'},\n",
              " {'Source': 'web', 'functions': 'disease'},\n",
              " {'Source': 'web', 'functions': 'claims'},\n",
              " {'Source': 'web', 'functions': 'disease'},\n",
              " {'Source': 'pdf', 'functions': 'disease'},\n",
              " {'Source': 'web', 'functions': 'disease'},\n",
              " {'Source': 'web', 'functions': 'disease'},\n",
              " {'Source': 'pdf', 'functions': 'disease'},\n",
              " {'Source': 'pdf', 'functions': 'disease'},\n",
              " {'Source': 'pdf', 'functions': 'disease'},\n",
              " {},\n",
              " {'Source': 'pdf', 'functions': 'claims'},\n",
              " {'Source': 'pdf', 'functions': 'disease'},\n",
              " {}]"
            ]
          },
          "execution_count": 80,
          "metadata": {},
          "output_type": "execute_result"
        }
      ],
      "source": [
        "[i.metadata for i in docs_inspect]"
      ]
    },
    {
      "cell_type": "code",
      "execution_count": 64,
      "metadata": {},
      "outputs": [],
      "source": [
        "# help(retriever.get_relevant_documents)"
      ]
    },
    {
      "cell_type": "markdown",
      "metadata": {
        "id": "LZwcZyRxSO0q"
      },
      "source": [
        "## Generator\n",
        "\n",
        "The Generator prompts the LLM for an answer when the user asks a question. The retriever you created in the previous stage from the Chroma vector store will be used to pass relevant embeddings from the website data to the LLM to provide more context to the user's query.\n",
        "\n",
        "You'll perform the following steps in this stage:\n",
        "\n",
        "1. Chain together the following:\n",
        "    * A prompt for extracting the relevant embeddings using the retriever.\n",
        "    * A prompt for answering any question using LangChain.\n",
        "    * An LLM model from Gemini for prompting.\n",
        "    \n",
        "2. Run the created chain with a question as input to prompt the model for an answer.\n"
      ]
    },
    {
      "cell_type": "markdown",
      "metadata": {
        "id": "FtUi5FBIJMDy"
      },
      "source": [
        "### Initialize Gemini\n",
        "\n",
        "You must import `ChatGoogleGenerativeAI` from LangChain to initialize your model.\n",
        " In this example, you will use **gemini-pro**, as it supports text summarization. To know more about the text model, read Google AI's [language documentation](https://ai.google.dev/models/gemini).\n",
        "\n",
        "You can configure the model parameters such as ***temperature*** or ***top_p***,  by passing the appropriate values when initializing the `ChatGoogleGenerativeAI` LLM.  To learn more about the parameters and their uses, read Google AI's [concepts guide](https://ai.google.dev/docs/concepts#model_parameters)."
      ]
    },
    {
      "cell_type": "code",
      "execution_count": 65,
      "metadata": {
        "id": "CaA1vRCh7s36"
      },
      "outputs": [],
      "source": [
        "from langchain_google_genai import ChatGoogleGenerativeAI\n",
        "\n",
        "# If there is no environment variable set for the API key, you can pass the API\n",
        "# key to the parameter `google_api_key` of the `ChatGoogleGenerativeAI` function:\n",
        "# `google_api_key=\"key\"`.\n",
        "llm = ChatGoogleGenerativeAI(model=\"gemini-pro\",\n",
        "                 temperature=0.1, top_p=0.85, google_api_key=google_api_key)"
      ]
    },
    {
      "cell_type": "markdown",
      "metadata": {
        "id": "jC4QDhiPpDJa"
      },
      "source": [
        "### Create prompt templates\n",
        "\n",
        "You'll use LangChain's [PromptTemplate](https://python.langchain.com/docs/modules/model_io/prompts/prompt_templates/) to generate prompts to the LLM for answering questions.\n",
        "\n",
        "In the `llm_prompt`, the variable `question` will be replaced later by the input question, and the variable `context` will be replaced by the relevant text from the website retrieved from the Chroma vector store."
      ]
    },
    {
      "cell_type": "code",
      "execution_count": 66,
      "metadata": {
        "colab": {
          "base_uri": "https://localhost:8080/"
        },
        "id": "90Czqh074dEC",
        "outputId": "4df8401b-e201-4335-af97-b8c85d7a8dc4"
      },
      "outputs": [
        {
          "name": "stdout",
          "output_type": "stream",
          "text": [
            "input_variables=['context', 'question'] template=\"You are an assistant for question-answering tasks.\\nUse the following context to answer the question.\\nIf you don't know the answer, just say that you don't know.\\nUse five sentences maximum and keep the answer concise.\\n\\nQuestion: {question} \\nContext: {context} \\nAnswer:\"\n"
          ]
        }
      ],
      "source": [
        "# Prompt template to query Gemini\n",
        "llm_prompt_template = \"\"\"You are an assistant for question-answering tasks.\n",
        "Use the following context to answer the question.\n",
        "If you don't know the answer, just say that you don't know.\n",
        "Use five sentences maximum and keep the answer concise.\\n\n",
        "Question: {question} \\nContext: {context} \\nAnswer:\"\"\"\n",
        "\n",
        "llm_prompt = PromptTemplate.from_template(llm_prompt_template)\n",
        "\n",
        "print(llm_prompt)"
      ]
    },
    {
      "cell_type": "markdown",
      "metadata": {
        "id": "KXDh2jsdp4sr"
      },
      "source": [
        "### Create a stuff documents chain\n",
        "\n",
        "LangChain provides [Chains](https://python.langchain.com/docs/modules/chains/) for chaining together LLMs with each other or other components for complex applications. You will create a **stuff documents chain** for this application. A stuff documents chain lets you combine all the relevant documents, insert them into the prompt, and pass that prompt to the LLM.\n",
        "\n",
        "You can create a stuff documents chain using the [LangChain Expression Language (LCEL)](https://python.langchain.com/docs/expression_language).\n",
        "\n",
        "To learn more about different types of document chains, read LangChain's [chains guide](https://python.langchain.com/docs/modules/chains/document/).\n",
        "\n",
        "The stuff documents chain for this application retrieves the relevant website data and passes it as the context to an LLM prompt along with the input question."
      ]
    },
    {
      "cell_type": "code",
      "execution_count": 67,
      "metadata": {
        "id": "gj5sWzpwp7vc"
      },
      "outputs": [],
      "source": [
        "# Combine data from documents to readable string format.\n",
        "def format_docs(docs):\n",
        "    return \"\\n\\n\".join(doc.page_content for doc in docs)\n",
        "\n",
        "# Create stuff documents chain using LCEL.\n",
        "#\n",
        "# This is called a chain because you are chaining together different elements\n",
        "# with the LLM. In the following example, to create the stuff chain, you will\n",
        "# combine the relevant context from the website data matching the question, the\n",
        "# LLM model, and the output parser together like a chain using LCEL.\n",
        "#\n",
        "# The chain implements the following pipeline:\n",
        "# 1. Extract the website data relevant to the question from the Chroma\n",
        "#    vector store and save it to the variable `context`.\n",
        "# 2. `RunnablePassthrough` option to provide `question` when invoking\n",
        "#    the chain.\n",
        "# 3. The `context` and `question` are then passed to the prompt where they\n",
        "#    are populated in the respective variables.\n",
        "# 4. This prompt is then passed to the LLM (`gemini-pro`).\n",
        "# 5. Output from the LLM is passed through an output parser\n",
        "#    to structure the model's response.\n",
        "context = retriever | format_docs\n",
        "rag_chain = (\n",
        "    {\"context\": context, \"question\": RunnablePassthrough()}\n",
        "    | llm_prompt\n",
        "    | llm\n",
        "    | StrOutputParser()\n",
        ")"
      ]
    },
    {
      "cell_type": "markdown",
      "metadata": {
        "id": "cPPqsGCLIrs1"
      },
      "source": [
        "### Prompt the model\n",
        "\n",
        "You can now query the LLM by passing any question to the `invoke()` function of the stuff documents chain you created previously."
      ]
    },
    {
      "cell_type": "code",
      "execution_count": 69,
      "metadata": {
        "colab": {
          "base_uri": "https://localhost:8080/",
          "height": 53
        },
        "id": "4vIaopCsIq0B",
        "outputId": "5f24f5aa-469a-4771-8c8f-d1aa42d2246f"
      },
      "outputs": [
        {
          "name": "stdout",
          "output_type": "stream",
          "text": [
            "Context: first=VectorStoreRetriever(tags=['Chroma', 'GoogleGenerativeAIEmbeddings'], vectorstore=<langchain_community.vectorstores.chroma.Chroma object at 0x7f61486718d0>, search_kwargs={'k': 15}) middle=[RunnableLambda(format_docs)] last=RunnableLambda(format_docs)\n",
            "LLM Response: Cardiac arrest is a life-threatening condition in which the heart suddenly stops beating. It's commonly caused by a heart attack or an inherited heart condition. Early recognition, CPR, defibrillation, and post-resuscitation care are crucial for improving the chances of survival.\n"
          ]
        }
      ],
      "source": [
        "response = rag_chain.invoke(\"provide an summary on cardiac arrest\")\n",
        "print(\"Context:\", context| format_docs)  # Print the captured context\n",
        "print(\"LLM Response:\", response)"
      ]
    },
    {
      "cell_type": "code",
      "execution_count": 70,
      "metadata": {},
      "outputs": [
        {
          "data": {
            "text/plain": [
              "\"I'm sorry, but the context does not contain information about what to avoid doing while experiencing cardiac arrest. Therefore, I cannot answer your question.\""
            ]
          },
          "execution_count": 70,
          "metadata": {},
          "output_type": "execute_result"
        }
      ],
      "source": [
        "rag_chain.invoke(\"What should i avoid doing if I have cardiac arrest\")"
      ]
    },
    {
      "cell_type": "code",
      "execution_count": 71,
      "metadata": {},
      "outputs": [
        {
          "data": {
            "text/plain": [
              "'I apologize, but the provided context does not contain information on how to claim for heart disease for Prudential. Therefore, I cannot answer your question.'"
            ]
          },
          "execution_count": 71,
          "metadata": {},
          "output_type": "execute_result"
        }
      ],
      "source": [
        "rag_chain.invoke(\"how do i claim for heart disease for prudential\", config={'functions':'claims'})"
      ]
    },
    {
      "cell_type": "code",
      "execution_count": 72,
      "metadata": {},
      "outputs": [
        {
          "data": {
            "text/plain": [
              "'I apologize, but the provided context does not contain information on how to claim for critical illness for FWD. Therefore, I cannot answer your question.'"
            ]
          },
          "execution_count": 72,
          "metadata": {},
          "output_type": "execute_result"
        }
      ],
      "source": [
        "rag_chain.invoke(\"how do i claim for critical illness for FWD\", config={'functions':'claims'})"
      ]
    },
    {
      "cell_type": "markdown",
      "metadata": {
        "id": "lV7T9rqDdjZK"
      },
      "source": [
        "# Conclusion\n",
        "\n",
        "That's it. You have successfully created an LLM application that answers questions using data from a website with the help of Gemini, LangChain, and Chroma."
      ]
    }
  ],
  "metadata": {
    "colab": {
      "provenance": [],
      "toc_visible": true
    },
    "kernelspec": {
      "display_name": "Python 3",
      "name": "python3"
    },
    "language_info": {
      "codemirror_mode": {
        "name": "ipython",
        "version": 3
      },
      "file_extension": ".py",
      "mimetype": "text/x-python",
      "name": "python",
      "nbconvert_exporter": "python",
      "pygments_lexer": "ipython3",
      "version": "3.11.5"
    }
  },
  "nbformat": 4,
  "nbformat_minor": 0
}
